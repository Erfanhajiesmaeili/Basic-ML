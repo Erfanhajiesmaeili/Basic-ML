{
 "cells": [
  {
   "cell_type": "code",
   "execution_count": 1,
   "metadata": {},
   "outputs": [],
   "source": [
    "import numpy as np\n",
    "import pandas as pd\n",
    "from sklearn.model_selection import train_test_split\n",
    "from sklearn.preprocessing import StandardScaler\n",
    "from sklearn.neural_network import MLPClassifier \n",
    "from sklearn.tree import DecisionTreeClassifier \n",
    "from sklearn.ensemble import RandomForestClassifier\n",
    "from sklearn.neighbors import KNeighborsClassifier\n",
    "from sklearn.naive_bayes import GaussianNB\n",
    "from sklearn.linear_model import LogisticRegression\n",
    "from sklearn.svm import SVC"
   ]
  },
  {
   "cell_type": "code",
   "execution_count": 2,
   "metadata": {},
   "outputs": [
    {
     "name": "stdout",
     "output_type": "stream",
     "text": [
      "(768, 9)\n",
      "________\n"
     ]
    },
    {
     "data": {
      "text/plain": [
       "Outcome\n",
       "0    500\n",
       "1    268\n",
       "Name: count, dtype: int64"
      ]
     },
     "execution_count": 2,
     "metadata": {},
     "output_type": "execute_result"
    }
   ],
   "source": [
    "df = pd.read_csv('diabetes.csv')\n",
    "df.head()\n",
    "\n",
    "print(df.shape)\n",
    "print('________')\n",
    "df['Outcome'].value_counts()"
   ]
  },
  {
   "cell_type": "code",
   "execution_count": 3,
   "metadata": {},
   "outputs": [],
   "source": [
    "X = np.array(df.drop('Outcome', axis=1))\n",
    "y = np.array(df['Outcome'])"
   ]
  },
  {
   "cell_type": "code",
   "execution_count": 4,
   "metadata": {},
   "outputs": [],
   "source": [
    "# preprocess the data\n",
    "\n",
    "X_train, X_test, y_train, y_test = train_test_split(X, y, test_size=0.2)\n",
    "\n",
    "scaler = StandardScaler()\n",
    "X_train = scaler.fit_transform(X_train)\n",
    "X_test = scaler.transform(X_test)"
   ]
  },
  {
   "cell_type": "markdown",
   "metadata": {},
   "source": [
    "# Classification"
   ]
  },
  {
   "cell_type": "code",
   "execution_count": 5,
   "metadata": {},
   "outputs": [],
   "source": [
    "# create a metrics function to evaluate the model\n",
    "\n",
    "from sklearn.metrics import accuracy_score , recall_score, precision_score\n",
    "\n",
    "def calculate_metrics(y_train , y_test , y_pred_tr , y_pred_te):\n",
    "    acc_train = accuracy_score(y_true=y_train, y_pred=y_pred_tr)\n",
    "    acc_test = accuracy_score(y_true=y_test, y_pred=y_pred_te)\n",
    "\n",
    "    p = precision_score(y_true=y_test, y_pred=y_pred_te)\n",
    "    r = recall_score(y_true=y_test, y_pred=y_pred_te)\n",
    "\n",
    "    print(f'acc train={acc_train}, acc test={acc_test}, p={p}, r={r}')\n",
    "\n",
    "    return acc_train, acc_test, p, r"
   ]
  },
  {
   "cell_type": "code",
   "execution_count": 6,
   "metadata": {},
   "outputs": [
    {
     "name": "stdout",
     "output_type": "stream",
     "text": [
      "acc train=0.8289902280130294, acc test=0.7532467532467533, p=0.6363636363636364, r=0.660377358490566\n"
     ]
    }
   ],
   "source": [
    "# Neural Network Classifier (ANN)\n",
    "\n",
    "ann = MLPClassifier(hidden_layer_sizes=128 , max_iter=1000)\n",
    "ann.fit(X_train, y_train)\n",
    "\n",
    "y_pred_tr = ann.predict(X_train)\n",
    "y_pred_te = ann.predict(X_test)\n",
    "\n",
    "acc_train_ann, acc_test_ann, p_ann, r_ann = calculate_metrics(y_train, y_test, y_pred_tr, y_pred_te)"
   ]
  },
  {
   "cell_type": "code",
   "execution_count": 7,
   "metadata": {},
   "outputs": [
    {
     "name": "stdout",
     "output_type": "stream",
     "text": [
      "acc train=0.7801302931596091, acc test=0.7792207792207793, p=0.7021276595744681, r=0.6226415094339622\n"
     ]
    }
   ],
   "source": [
    "# Logistic Regression Classifier\n",
    "\n",
    "lr = LogisticRegression()\n",
    "lr.fit(X_train, y_train)\n",
    "\n",
    "y_pred_tr = lr.predict(X_train)\n",
    "y_pred_te = lr.predict(X_test)\n",
    "\n",
    "acc_train_lr, acc_test_lr, p_lr, r_lr = calculate_metrics(y_train, y_test, y_pred_tr, y_pred_te)"
   ]
  },
  {
   "cell_type": "code",
   "execution_count": 8,
   "metadata": {},
   "outputs": [
    {
     "name": "stdout",
     "output_type": "stream",
     "text": [
      "acc train=0.7703583061889251, acc test=0.7402597402597403, p=0.6274509803921569, r=0.6037735849056604\n"
     ]
    }
   ],
   "source": [
    "# Naive Bayes Classifier\n",
    "\n",
    "GNB = GaussianNB()\n",
    "GNB.fit(X_train, y_train)\n",
    "\n",
    "y_pred_tr = GNB.predict(X_train)\n",
    "y_pred_te = GNB.predict(X_test)\n",
    "\n",
    "acc_train_GNB, acc_test_GNB, p_GNB, r_GNB = calculate_metrics(y_train, y_test, y_pred_tr, y_pred_te)"
   ]
  },
  {
   "cell_type": "code",
   "execution_count": 9,
   "metadata": {},
   "outputs": [
    {
     "name": "stdout",
     "output_type": "stream",
     "text": [
      "acc train=0.8127035830618893, acc test=0.7337662337662337, p=0.7727272727272727, r=0.32075471698113206\n"
     ]
    }
   ],
   "source": [
    "# Support Vector Machine Classifier (SVM)\n",
    "\n",
    "svm = SVC(kernel='poly')\n",
    "svm.fit(X_train, y_train)\n",
    "\n",
    "y_pred_tr = svm.predict(X_train)\n",
    "y_pred_te = svm.predict(X_test)\n",
    "\n",
    "acc_train_svm, acc_test_svm, p_svm, r_svm = calculate_metrics(y_train, y_test, y_pred_tr, y_pred_te)"
   ]
  },
  {
   "cell_type": "code",
   "execution_count": 10,
   "metadata": {},
   "outputs": [
    {
     "name": "stdout",
     "output_type": "stream",
     "text": [
      "acc train=1.0, acc test=0.7077922077922078, p=0.5769230769230769, r=0.5660377358490566\n"
     ]
    }
   ],
   "source": [
    "# Decision Tree Classifier\n",
    "\n",
    "dt = DecisionTreeClassifier(max_depth=256 , min_samples_split=2 , criterion='gini')\n",
    "dt.fit(X_train, y_train)\n",
    "\n",
    "y_pred_tr = dt.predict(X_train)\n",
    "y_pred_te = dt.predict(X_test)\n",
    "\n",
    "acc_train_dt, acc_test_dt, p_dt, r_dt = calculate_metrics(y_train, y_test, y_pred_tr, y_pred_te)"
   ]
  },
  {
   "cell_type": "code",
   "execution_count": 11,
   "metadata": {},
   "outputs": [
    {
     "name": "stdout",
     "output_type": "stream",
     "text": [
      "acc train=1.0, acc test=0.7532467532467533, p=0.6595744680851063, r=0.5849056603773585\n"
     ]
    }
   ],
   "source": [
    "# Random Forest Classifier\n",
    "\n",
    "rf = RandomForestClassifier(n_estimators=1000 , max_depth=48 , min_samples_split=2)\n",
    "rf.fit(X_train, y_train)\n",
    "\n",
    "y_pred_tr = rf.predict(X_train)\n",
    "y_pred_te = rf.predict(X_test)\n",
    "\n",
    "acc_train_rf, acc_test_rf, p_rf, r_rf = calculate_metrics(y_train, y_test, y_pred_tr, y_pred_te)"
   ]
  },
  {
   "cell_type": "code",
   "execution_count": 12,
   "metadata": {},
   "outputs": [
    {
     "name": "stdout",
     "output_type": "stream",
     "text": [
      "acc train=0.7801302931596091, acc test=0.7727272727272727, p=0.725, r=0.5471698113207547\n"
     ]
    }
   ],
   "source": [
    "# K-Nearest Neighbors Classifier (KNN)\n",
    "\n",
    "knn = KNeighborsClassifier(n_neighbors=8)\n",
    "knn.fit(X_train, y_train)\n",
    "\n",
    "y_pred_tr = knn.predict(X_train)\n",
    "y_pred_te = knn.predict(X_test)\n",
    "\n",
    "acc_train_knn, acc_test_knn, p_knn, r_knn = calculate_metrics(y_train, y_test, y_pred_tr, y_pred_te)"
   ]
  },
  {
   "cell_type": "markdown",
   "metadata": {},
   "source": [
    "## Compare the models"
   ]
  },
  {
   "cell_type": "code",
   "execution_count": 13,
   "metadata": {},
   "outputs": [
    {
     "ename": "NameError",
     "evalue": "name 'plt' is not defined",
     "output_type": "error",
     "traceback": [
      "\u001b[31m---------------------------------------------------------------------------\u001b[39m",
      "\u001b[31mNameError\u001b[39m                                 Traceback (most recent call last)",
      "\u001b[36mCell\u001b[39m\u001b[36m \u001b[39m\u001b[32mIn[13]\u001b[39m\u001b[32m, line 6\u001b[39m\n\u001b[32m      4\u001b[39m title = [\u001b[33m'\u001b[39m\u001b[33mGNB\u001b[39m\u001b[33m'\u001b[39m, \u001b[33m'\u001b[39m\u001b[33mKNN\u001b[39m\u001b[33m'\u001b[39m, \u001b[33m'\u001b[39m\u001b[33mDT\u001b[39m\u001b[33m'\u001b[39m, \u001b[33m'\u001b[39m\u001b[33mRF\u001b[39m\u001b[33m'\u001b[39m, \u001b[33m'\u001b[39m\u001b[33mSVM\u001b[39m\u001b[33m'\u001b[39m, \u001b[33m'\u001b[39m\u001b[33mLR\u001b[39m\u001b[33m'\u001b[39m, \u001b[33m'\u001b[39m\u001b[33mANN\u001b[39m\u001b[33m'\u001b[39m]\n\u001b[32m      5\u001b[39m colors = [\u001b[33m'\u001b[39m\u001b[33mblue\u001b[39m\u001b[33m'\u001b[39m, \u001b[33m'\u001b[39m\u001b[33mgreen\u001b[39m\u001b[33m'\u001b[39m, \u001b[33m'\u001b[39m\u001b[33mred\u001b[39m\u001b[33m'\u001b[39m, \u001b[33m'\u001b[39m\u001b[33morange\u001b[39m\u001b[33m'\u001b[39m, \u001b[33m'\u001b[39m\u001b[33mpurple\u001b[39m\u001b[33m'\u001b[39m, \u001b[33m'\u001b[39m\u001b[33mpink\u001b[39m\u001b[33m'\u001b[39m, \u001b[33m'\u001b[39m\u001b[33mbrown\u001b[39m\u001b[33m'\u001b[39m]\n\u001b[32m----> \u001b[39m\u001b[32m6\u001b[39m \u001b[43mplt\u001b[49m.title(\u001b[33m'\u001b[39m\u001b[33mTrain Data Accuracy\u001b[39m\u001b[33m'\u001b[39m)\n\u001b[32m      7\u001b[39m plt.bar(title, acc_train, color=colors)\n\u001b[32m      8\u001b[39m plt.grid()\n",
      "\u001b[31mNameError\u001b[39m: name 'plt' is not defined"
     ]
    }
   ],
   "source": [
    "# Plot train data accuracy for models\n",
    "\n",
    "acc_train = [acc_train_GNB, acc_train_knn, acc_train_dt, acc_train_rf, acc_train_svm, acc_train_lr, acc_train_ann]\n",
    "title = ['GNB', 'KNN', 'DT', 'RF', 'SVM', 'LR', 'ANN']\n",
    "colors = ['blue', 'green', 'red', 'orange', 'purple', 'pink', 'brown']\n",
    "plt.title('Train Data Accuracy')\n",
    "plt.bar(title, acc_train, color=colors)\n",
    "plt.grid()"
   ]
  },
  {
   "cell_type": "code",
   "execution_count": null,
   "metadata": {},
   "outputs": [
    {
     "data": {
      "image/png": "[encoded data removed]",
      "text/plain": [
       "<Figure size 640x480 with 1 Axes>"
      ]
     },
     "metadata": {},
     "output_type": "display_data"
    }
   ],
   "source": [
    "# Plot test data accuracy for models\n",
    "\n",
    "acc_test = [acc_test_GNB, acc_test_knn, acc_test_dt, acc_test_rf, acc_test_svm, acc_test_lr, acc_test_ann]\n",
    "title = ['GNB', 'KNN', 'DT', 'RF', 'SVM', 'LR', 'ANN']\n",
    "colors = ['blue', 'green', 'red', 'orange', 'purple', 'pink', 'brown']\n",
    "plt.title('Test Data Accuracy')\n",
    "plt.bar(title, acc_test, color=colors)\n",
    "plt.grid()"
   ]
  },
  {
   "cell_type": "code",
   "execution_count": null,
   "metadata": {},
   "outputs": [
    {
     "data": {
      "image/png": "[encoded data removed]",
      "text/plain": [
       "<Figure size 640x480 with 1 Axes>"
      ]
     },
     "metadata": {},
     "output_type": "display_data"
    }
   ],
   "source": [
    "# Plot precission for models\n",
    "\n",
    "p_test = [p_GNB, p_knn, p_dt, p_rf, p_svm, p_lr, p_ann]\n",
    "title = ['GNB', 'KNN', 'DT', 'RF', 'SVM', 'LR', 'ANN']\n",
    "colors = ['blue', 'green', 'red', 'orange', 'purple', 'pink', 'brown']\n",
    "plt.title('Precision')\n",
    "plt.bar(title, p_test, color=colors)\n",
    "plt.grid()"
   ]
  },
  {
   "cell_type": "code",
   "execution_count": null,
   "metadata": {},
   "outputs": [
    {
     "data": {
      "image/png": "[encoded data removed]",
      "text/plain": [
       "<Figure size 640x480 with 1 Axes>"
      ]
     },
     "metadata": {},
     "output_type": "display_data"
    }
   ],
   "source": [
    "# Plot recall for models\n",
    "\n",
    "r_test = [r_GNB, r_knn, r_dt, r_rf, r_svm, r_lr, r_ann]\n",
    "title = ['GNB', 'KNN', 'DT', 'RF', 'SVM', 'LR', 'ANN']\n",
    "colors = ['blue', 'green', 'red', 'orange', 'purple', 'pink', 'brown']\n",
    "plt.title('Recall')\n",
    "plt.bar(title, r_test, color=colors)\n",
    "plt.grid()"
   ]
  }
 ],
 "metadata": {
  "kernelspec": {
   "display_name": "Python 3",
   "language": "python",
   "name": "python3"
  },
  "language_info": {
   "codemirror_mode": {
    "name": "ipython",
    "version": 3
   },
   "file_extension": ".py",
   "mimetype": "text/x-python",
   "name": "python",
   "nbconvert_exporter": "python",
   "pygments_lexer": "ipython3",
   "version": "3.13.3"
  }
 },
 "nbformat": 4,
 "nbformat_minor": 2
}
