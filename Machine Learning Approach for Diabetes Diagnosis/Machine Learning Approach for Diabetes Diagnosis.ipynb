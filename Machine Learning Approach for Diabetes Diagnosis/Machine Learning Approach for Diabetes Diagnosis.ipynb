{
 "cells": [
  {
   "cell_type": "code",
   "execution_count": 1,
   "metadata": {},
   "outputs": [],
   "source": [
    "import numpy as np\n",
    "import pandas as pd\n",
    "from sklearn.model_selection import train_test_split\n",
    "from sklearn.preprocessing import StandardScaler\n",
    "from sklearn.neural_network import MLPClassifier \n",
    "from sklearn.tree import DecisionTreeClassifier \n",
    "from sklearn.ensemble import RandomForestClassifier\n",
    "from sklearn.neighbors import KNeighborsClassifier\n",
    "from sklearn.naive_bayes import GaussianNB\n",
    "from sklearn.linear_model import LogisticRegression\n",
    "from sklearn.svm import SVC\n",
    "import matplotlib.pyplot as plt"
   ]
  },
  {
   "cell_type": "code",
   "execution_count": 2,
   "metadata": {},
   "outputs": [
    {
     "name": "stdout",
     "output_type": "stream",
     "text": [
      "(768, 9)\n",
      "________\n"
     ]
    },
    {
     "data": {
      "text/plain": [
       "Outcome\n",
       "0    500\n",
       "1    268\n",
       "Name: count, dtype: int64"
      ]
     },
     "execution_count": 2,
     "metadata": {},
     "output_type": "execute_result"
    }
   ],
   "source": [
    "df = pd.read_csv('diabetes.csv')\n",
    "df.head()\n",
    "\n",
    "print(df.shape)\n",
    "print('________')\n",
    "df['Outcome'].value_counts()"
   ]
  },
  {
   "cell_type": "code",
   "execution_count": 3,
   "metadata": {},
   "outputs": [],
   "source": [
    "X = np.array(df.drop('Outcome', axis=1))\n",
    "y = np.array(df['Outcome'])"
   ]
  },
  {
   "cell_type": "code",
   "execution_count": 4,
   "metadata": {},
   "outputs": [],
   "source": [
    "# preprocess the data\n",
    "\n",
    "X_train, X_test, y_train, y_test = train_test_split(X, y, test_size=0.2)\n",
    "\n",
    "scaler = StandardScaler()\n",
    "X_train = scaler.fit_transform(X_train)\n",
    "X_test = scaler.transform(X_test)"
   ]
  },
  {
   "cell_type": "markdown",
   "metadata": {},
   "source": [
    "# Classification"
   ]
  },
  {
   "cell_type": "code",
   "execution_count": 5,
   "metadata": {},
   "outputs": [],
   "source": [
    "# create a metrics function to evaluate the model\n",
    "\n",
    "from sklearn.metrics import accuracy_score , recall_score, precision_score\n",
    "\n",
    "def calculate_metrics(y_train , y_test , y_pred_tr , y_pred_te):\n",
    "    acc_train = accuracy_score(y_true=y_train, y_pred=y_pred_tr)\n",
    "    acc_test = accuracy_score(y_true=y_test, y_pred=y_pred_te)\n",
    "\n",
    "    p = precision_score(y_true=y_test, y_pred=y_pred_te)\n",
    "    r = recall_score(y_true=y_test, y_pred=y_pred_te)\n",
    "\n",
    "    print(f'acc train={acc_train}, acc test={acc_test}, p={p}, r={r}')\n",
    "\n",
    "    return acc_train, acc_test, p, r"
   ]
  },
  {
   "cell_type": "code",
   "execution_count": 6,
   "metadata": {},
   "outputs": [
    {
     "name": "stdout",
     "output_type": "stream",
     "text": [
      "acc train=0.8648208469055375, acc test=0.7532467532467533, p=0.6956521739130435, r=0.5714285714285714\n"
     ]
    }
   ],
   "source": [
    "# Neural Network Classifier (ANN)\n",
    "\n",
    "ann = MLPClassifier(hidden_layer_sizes=128 , max_iter=1000)\n",
    "ann.fit(X_train, y_train)\n",
    "\n",
    "y_pred_tr = ann.predict(X_train)\n",
    "y_pred_te = ann.predict(X_test)\n",
    "\n",
    "acc_train_ann, acc_test_ann, p_ann, r_ann = calculate_metrics(y_train, y_test, y_pred_tr, y_pred_te)"
   ]
  },
  {
   "cell_type": "code",
   "execution_count": 7,
   "metadata": {},
   "outputs": [
    {
     "name": "stdout",
     "output_type": "stream",
     "text": [
      "acc train=0.7768729641693811, acc test=0.7987012987012987, p=0.7777777777777778, r=0.625\n"
     ]
    }
   ],
   "source": [
    "# Logistic Regression Classifier\n",
    "\n",
    "lr = LogisticRegression()\n",
    "lr.fit(X_train, y_train)\n",
    "\n",
    "y_pred_tr = lr.predict(X_train)\n",
    "y_pred_te = lr.predict(X_test)\n",
    "\n",
    "acc_train_lr, acc_test_lr, p_lr, r_lr = calculate_metrics(y_train, y_test, y_pred_tr, y_pred_te)"
   ]
  },
  {
   "cell_type": "code",
   "execution_count": 8,
   "metadata": {},
   "outputs": [
    {
     "name": "stdout",
     "output_type": "stream",
     "text": [
      "acc train=0.758957654723127, acc test=0.7792207792207793, p=0.7037037037037037, r=0.6785714285714286\n"
     ]
    }
   ],
   "source": [
    "# Naive Bayes Classifier\n",
    "\n",
    "GNB = GaussianNB()\n",
    "GNB.fit(X_train, y_train)\n",
    "\n",
    "y_pred_tr = GNB.predict(X_train)\n",
    "y_pred_te = GNB.predict(X_test)\n",
    "\n",
    "acc_train_GNB, acc_test_GNB, p_GNB, r_GNB = calculate_metrics(y_train, y_test, y_pred_tr, y_pred_te)"
   ]
  },
  {
   "cell_type": "code",
   "execution_count": 9,
   "metadata": {},
   "outputs": [
    {
     "name": "stdout",
     "output_type": "stream",
     "text": [
      "acc train=0.8029315960912052, acc test=0.7142857142857143, p=0.7142857142857143, r=0.35714285714285715\n"
     ]
    }
   ],
   "source": [
    "# Support Vector Machine Classifier (SVM)\n",
    "\n",
    "svm = SVC(kernel='poly')\n",
    "svm.fit(X_train, y_train)\n",
    "\n",
    "y_pred_tr = svm.predict(X_train)\n",
    "y_pred_te = svm.predict(X_test)\n",
    "\n",
    "acc_train_svm, acc_test_svm, p_svm, r_svm = calculate_metrics(y_train, y_test, y_pred_tr, y_pred_te)"
   ]
  },
  {
   "cell_type": "code",
   "execution_count": 10,
   "metadata": {},
   "outputs": [
    {
     "name": "stdout",
     "output_type": "stream",
     "text": [
      "acc train=1.0, acc test=0.7467532467532467, p=0.6545454545454545, r=0.6428571428571429\n"
     ]
    }
   ],
   "source": [
    "# Decision Tree Classifier\n",
    "\n",
    "dt = DecisionTreeClassifier(max_depth=256 , min_samples_split=2 , criterion='gini')\n",
    "dt.fit(X_train, y_train)\n",
    "\n",
    "y_pred_tr = dt.predict(X_train)\n",
    "y_pred_te = dt.predict(X_test)\n",
    "\n",
    "acc_train_dt, acc_test_dt, p_dt, r_dt = calculate_metrics(y_train, y_test, y_pred_tr, y_pred_te)"
   ]
  },
  {
   "cell_type": "code",
   "execution_count": 11,
   "metadata": {},
   "outputs": [
    {
     "name": "stdout",
     "output_type": "stream",
     "text": [
      "acc train=1.0, acc test=0.7597402597402597, p=0.6938775510204082, r=0.6071428571428571\n"
     ]
    }
   ],
   "source": [
    "# Random Forest Classifier\n",
    "\n",
    "rf = RandomForestClassifier(n_estimators=1000 , max_depth=48 , min_samples_split=2)\n",
    "rf.fit(X_train, y_train)\n",
    "\n",
    "y_pred_tr = rf.predict(X_train)\n",
    "y_pred_te = rf.predict(X_test)\n",
    "\n",
    "acc_train_rf, acc_test_rf, p_rf, r_rf = calculate_metrics(y_train, y_test, y_pred_tr, y_pred_te)"
   ]
  },
  {
   "cell_type": "code",
   "execution_count": 12,
   "metadata": {},
   "outputs": [
    {
     "name": "stdout",
     "output_type": "stream",
     "text": [
      "acc train=0.8013029315960912, acc test=0.7337662337662337, p=0.7419354838709677, r=0.4107142857142857\n"
     ]
    }
   ],
   "source": [
    "# K-Nearest Neighbors Classifier (KNN)\n",
    "\n",
    "knn = KNeighborsClassifier(n_neighbors=8)\n",
    "knn.fit(X_train, y_train)\n",
    "\n",
    "y_pred_tr = knn.predict(X_train)\n",
    "y_pred_te = knn.predict(X_test)\n",
    "\n",
    "acc_train_knn, acc_test_knn, p_knn, r_knn = calculate_metrics(y_train, y_test, y_pred_tr, y_pred_te)"
   ]
  },
  {
   "cell_type": "markdown",
   "metadata": {},
   "source": [
    "## Compare the models"
   ]
  },
  {
   "cell_type": "code",
   "execution_count": 13,
   "metadata": {},
   "outputs": [
    {
     "data": {
      "image/png": "[encoded data removed]",
      "text/plain": [
       "<Figure size 640x480 with 1 Axes>"
      ]
     },
     "metadata": {},
     "output_type": "display_data"
    }
   ],
   "source": [
    "# Plot train data accuracy for models\n",
    "\n",
    "acc_train = [acc_train_GNB, acc_train_knn, acc_train_dt, acc_train_rf, acc_train_svm, acc_train_lr, acc_train_ann]\n",
    "title = ['GNB', 'KNN', 'DT', 'RF', 'SVM', 'LR', 'ANN']\n",
    "colors = ['blue', 'green', 'red', 'orange', 'purple', 'pink', 'brown']\n",
    "plt.title('Train Data Accuracy')\n",
    "plt.bar(title, acc_train, color=colors)\n",
    "plt.grid()"
   ]
  },
  {
   "cell_type": "code",
   "execution_count": 14,
   "metadata": {},
   "outputs": [
    {
     "data": {
      "image/png": "[encoded data removed]",
      "text/plain": [
       "<Figure size 640x480 with 1 Axes>"
      ]
     },
     "metadata": {},
     "output_type": "display_data"
    }
   ],
   "source": [
    "# Plot test data accuracy for models\n",
    "\n",
    "acc_test = [acc_test_GNB, acc_test_knn, acc_test_dt, acc_test_rf, acc_test_svm, acc_test_lr, acc_test_ann]\n",
    "title = ['GNB', 'KNN', 'DT', 'RF', 'SVM', 'LR', 'ANN']\n",
    "colors = ['blue', 'green', 'red', 'orange', 'purple', 'pink', 'brown']\n",
    "plt.title('Test Data Accuracy')\n",
    "plt.bar(title, acc_test, color=colors)\n",
    "plt.grid()"
   ]
  },
  {
   "cell_type": "code",
   "execution_count": 15,
   "metadata": {},
   "outputs": [
    {
     "data": {
      "image/png": "[encoded data removed]",
      "text/plain": [
       "<Figure size 640x480 with 1 Axes>"
      ]
     },
     "metadata": {},
     "output_type": "display_data"
    }
   ],
   "source": [
    "# Plot precission for models\n",
    "\n",
    "p_test = [p_GNB, p_knn, p_dt, p_rf, p_svm, p_lr, p_ann]\n",
    "title = ['GNB', 'KNN', 'DT', 'RF', 'SVM', 'LR', 'ANN']\n",
    "colors = ['blue', 'green', 'red', 'orange', 'purple', 'pink', 'brown']\n",
    "plt.title('Precision')\n",
    "plt.bar(title, p_test, color=colors)\n",
    "plt.grid()"
   ]
  },
  {
   "cell_type": "code",
   "execution_count": 16,
   "metadata": {},
   "outputs": [
    {
     "data": {
      "image/png": "[encoded data removed]",
      "text/plain": [
       "<Figure size 640x480 with 1 Axes>"
      ]
     },
     "metadata": {},
     "output_type": "display_data"
    }
   ],
   "source": [
    "# Plot recall for models\n",
    "\n",
    "r_test = [r_GNB, r_knn, r_dt, r_rf, r_svm, r_lr, r_ann]\n",
    "title = ['GNB', 'KNN', 'DT', 'RF', 'SVM', 'LR', 'ANN']\n",
    "colors = ['blue', 'green', 'red', 'orange', 'purple', 'pink', 'brown']\n",
    "plt.title('Recall')\n",
    "plt.bar(title, r_test, color=colors)\n",
    "plt.grid()"
   ]
  }
 ],
 "metadata": {
  "kernelspec": {
   "display_name": "Python 3",
   "language": "python",
   "name": "python3"
  },
  "language_info": {
   "codemirror_mode": {
    "name": "ipython",
    "version": 3
   },
   "file_extension": ".py",
   "mimetype": "text/x-python",
   "name": "python",
   "nbconvert_exporter": "python",
   "pygments_lexer": "ipython3",
   "version": "3.13.3"
  }
 },
 "nbformat": 4,
 "nbformat_minor": 2
}
